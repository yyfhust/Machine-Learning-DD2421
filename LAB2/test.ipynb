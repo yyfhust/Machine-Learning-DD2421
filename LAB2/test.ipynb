{
 "cells": [
  {
   "cell_type": "code",
   "execution_count": 34,
   "metadata": {},
   "outputs": [],
   "source": [
    "import numpy as np\n",
    "import random\n",
    "import math\n",
    "from scipy.optimize import minimize\n",
    "import matplotlib.pyplot as plt\n",
    "import svm"
   ]
  },
  {
   "cell_type": "code",
   "execution_count": 35,
   "metadata": {},
   "outputs": [],
   "source": [
    "## generate test \n",
    "classA = np.concatenate((0.2*np.random.randn(10,2)+ [1.5, 0.5],0.2* np.random.randn(10, 2)  + [ -1.5, 0.5]))  \n",
    "classB = np.random.randn(20, 2) * 0.2 + [0.0 , -0.5]\n",
    "inputs = np.concatenate (( classA , classB )) \n",
    "targets = np.concatenate ((np.ones(classA.shape[0]) , -np.ones(classB.shape[0])))\n",
    "N = inputs . shape [0] # Number of rows (samples)\n",
    "permute=list (range(N)) \n",
    "random.shuffle(permute) \n",
    "inputs = inputs[permute,:]\n",
    "targets = targets[permute]\n"
   ]
  },
  {
   "cell_type": "code",
   "execution_count": 36,
   "metadata": {},
   "outputs": [
    {
     "data": {
      "text/plain": [
       "[<matplotlib.lines.Line2D at 0x101391bd68>]"
      ]
     },
     "execution_count": 36,
     "metadata": {},
     "output_type": "execute_result"
    },
    {
     "data": {
      "image/png": "[encoded data removed]",
      "text/plain": [
       "<Figure size 432x288 with 1 Axes>"
      ]
     },
     "metadata": {},
     "output_type": "display_data"
    }
   ],
   "source": [
    "plt.plot( [p[0] for p in classA], [p[1] for p in classA ],'b.' )\n",
    "plt.plot( [p[0] for p in classB], [p[1] for p in classB ],'r.' )"
   ]
  },
  {
   "cell_type": "code",
   "execution_count": 39,
   "metadata": {},
   "outputs": [],
   "source": [
    "model=svm.svm(kernel_type=\"rbf\",sigma=1)"
   ]
  },
  {
   "cell_type": "code",
   "execution_count": 40,
   "metadata": {},
   "outputs": [],
   "source": [
    "model.fit(inputs,targets)"
   ]
  },
  {
   "cell_type": "code",
   "execution_count": 41,
   "metadata": {},
   "outputs": [
    {
     "data": {
      "text/plain": [
       "(40, 2)"
      ]
     },
     "execution_count": 41,
     "metadata": {},
     "output_type": "execute_result"
    }
   ],
   "source": [
    "inputs.shape"
   ]
  },
  {
   "cell_type": "code",
   "execution_count": 42,
   "metadata": {},
   "outputs": [
    {
     "data": {
      "text/plain": [
       "-0.49225368990746987"
      ]
     },
     "execution_count": 42,
     "metadata": {},
     "output_type": "execute_result"
    }
   ],
   "source": [
    "model.b"
   ]
  },
  {
   "cell_type": "code",
   "execution_count": 43,
   "metadata": {},
   "outputs": [
    {
     "data": {
      "text/plain": [
       "[<matplotlib.lines.Line2D at 0x1013a157f0>]"
      ]
     },
     "execution_count": 43,
     "metadata": {},
     "output_type": "execute_result"
    },
    {
     "data": {
      "image/png": "[encoded data removed]",
      "text/plain": [
       "<Figure size 432x288 with 1 Axes>"
      ]
     },
     "metadata": {},
     "output_type": "display_data"
    }
   ],
   "source": [
    "x1grid=np.linspace(-2.5,2.5) \n",
    "x2grid=np.linspace(-2,2)\n",
    "grid=np.array([[model.predict(np.array([x1,x2])) for x1 in x1grid ] for x2 in x2grid])\n",
    "X, Y = np.meshgrid(x1grid, x2grid)\n",
    "#plt.contour(x1grid , x2grid , grid , (-1.0, 0.0, 1.0),colors=('red', 'black', 'blue'), linewidths=(1, 3, 1))\n",
    "plt.contour(X, Y , grid , (-1.0, 0.0, 1.0),colors=('red', 'black', 'blue'), linewidths=(1, 3, 1))\n",
    "plt.plot( [p[0] for p in classA], [p[1] for p in classA ],'b.' )\n",
    "plt.plot( [p[0] for p in classB], [p[1] for p in classB ],'r.' )"
   ]
  },
  {
   "cell_type": "code",
   "execution_count": 44,
   "metadata": {},
   "outputs": [
    {
     "data": {
      "text/plain": [
       "array([0.00000000e+00, 2.00683433e+00, 1.46139936e+00, 8.80590164e-16,\n",
       "       0.00000000e+00, 0.00000000e+00, 7.03736781e-16, 2.85418048e-16,\n",
       "       1.59162970e-16, 7.38237198e-16, 2.53163551e+00, 0.00000000e+00,\n",
       "       5.42379540e-16, 0.00000000e+00, 1.48356443e-16, 0.00000000e+00,\n",
       "       6.38074717e-16, 5.88354936e-16, 3.39090987e-16, 4.30639213e-18,\n",
       "       3.80423923e-16, 0.00000000e+00, 5.26680560e-16, 3.57485625e-16,\n",
       "       0.00000000e+00, 3.12983379e-16, 0.00000000e+00, 1.78530204e-16,\n",
       "       4.04648211e-16, 9.36598182e-01, 0.00000000e+00, 5.81444462e-16,\n",
       "       2.61379805e-16, 0.00000000e+00, 0.00000000e+00, 2.31600200e-16,\n",
       "       6.41275855e-16, 0.00000000e+00, 1.17301475e-16, 5.89885000e-16])"
      ]
     },
     "execution_count": 44,
     "metadata": {},
     "output_type": "execute_result"
    }
   ],
   "source": [
    "model.alpha"
   ]
  },
  {
   "cell_type": "code",
   "execution_count": 23,
   "metadata": {},
   "outputs": [
    {
     "data": {
      "text/plain": [
       "-0.18466177914608184"
      ]
     },
     "execution_count": 23,
     "metadata": {},
     "output_type": "execute_result"
    }
   ],
   "source": [
    "model.b"
   ]
  },
  {
   "cell_type": "code",
   "execution_count": 24,
   "metadata": {},
   "outputs": [
    {
     "data": {
      "text/plain": [
       "[(0, 1), (1, 2), (2, 3)]"
      ]
     },
     "execution_count": 24,
     "metadata": {},
     "output_type": "execute_result"
    }
   ],
   "source": [
    "list(enumerate([1,2,3]))"
   ]
  },
  {
   "cell_type": "code",
   "execution_count": null,
   "metadata": {},
   "outputs": [],
   "source": []
  },
  {
   "cell_type": "code",
   "execution_count": null,
   "metadata": {},
   "outputs": [],
   "source": []
  },
  {
   "cell_type": "code",
   "execution_count": null,
   "metadata": {},
   "outputs": [],
   "source": []
  },
  {
   "cell_type": "code",
   "execution_count": null,
   "metadata": {},
   "outputs": [],
   "source": []
  },
  {
   "cell_type": "code",
   "execution_count": 74,
   "metadata": {},
   "outputs": [
    {
     "data": {
      "text/plain": [
       "array([ 0.40826953, -0.48593917])"
      ]
     },
     "execution_count": 74,
     "metadata": {},
     "output_type": "execute_result"
    }
   ],
   "source": [
    "inputs[0]"
   ]
  },
  {
   "cell_type": "code",
   "execution_count": null,
   "metadata": {},
   "outputs": [],
   "source": []
  }
 ],
 "metadata": {
  "kernelspec": {
   "display_name": "Python 3",
   "language": "python",
   "name": "python3"
  },
  "language_info": {
   "codemirror_mode": {
    "name": "ipython",
    "version": 3
   },
   "file_extension": ".py",
   "mimetype": "text/x-python",
   "name": "python",
   "nbconvert_exporter": "python",
   "pygments_lexer": "ipython3",
   "version": "3.6.5"
  }
 },
 "nbformat": 4,
 "nbformat_minor": 2
}
