{
 "cells": [
  {
   "cell_type": "code",
   "execution_count": 5,
   "metadata": {},
   "outputs": [],
   "source": [
    "import monkdata as m\n",
    "import dtree as dt\n",
    "import drawtree_qt5 as draw"
   ]
  },
  {
   "cell_type": "code",
   "execution_count": null,
   "metadata": {},
   "outputs": [],
   "source": []
  },
  {
   "cell_type": "markdown",
   "metadata": {},
   "source": [
    "Assignment1"
   ]
  },
  {
   "cell_type": "code",
   "execution_count": 6,
   "metadata": {},
   "outputs": [
    {
     "data": {
      "text/plain": [
       "1.0"
      ]
     },
     "execution_count": 6,
     "metadata": {},
     "output_type": "execute_result"
    }
   ],
   "source": [
    "dt.entropy(m.monk1)"
   ]
  },
  {
   "cell_type": "code",
   "execution_count": 7,
   "metadata": {},
   "outputs": [
    {
     "data": {
      "text/plain": [
       "0.957117428264771"
      ]
     },
     "execution_count": 7,
     "metadata": {},
     "output_type": "execute_result"
    }
   ],
   "source": [
    "dt.entropy(m.monk2)"
   ]
  },
  {
   "cell_type": "code",
   "execution_count": 8,
   "metadata": {},
   "outputs": [
    {
     "data": {
      "text/plain": [
       "0.9998061328047111"
      ]
     },
     "execution_count": 8,
     "metadata": {},
     "output_type": "execute_result"
    }
   ],
   "source": [
    "dt.entropy(m.monk3)"
   ]
  },
  {
   "cell_type": "code",
   "execution_count": null,
   "metadata": {},
   "outputs": [],
   "source": []
  },
  {
   "cell_type": "markdown",
   "metadata": {},
   "source": [
    "Assignment2"
   ]
  },
  {
   "cell_type": "code",
   "execution_count": 9,
   "metadata": {},
   "outputs": [
    {
     "name": "stdout",
     "output_type": "stream",
     "text": [
      "0.07527255560831925\n",
      "0.005838429962909286\n",
      "0.00470756661729721\n",
      "0.02631169650768228\n",
      "0.28703074971578435\n",
      "0.0007578557158638421\n"
     ]
    }
   ],
   "source": [
    "print(dt.averageGain(m.monk1,m.attributes[0]))\n",
    "print(dt.averageGain(m.monk1,m.attributes[1]))\n",
    "print(dt.averageGain(m.monk1,m.attributes[2]))\n",
    "print(dt.averageGain(m.monk1,m.attributes[3]))\n",
    "print(dt.averageGain(m.monk1,m.attributes[4]))\n",
    "print(dt.averageGain(m.monk1,m.attributes[5]))"
   ]
  },
  {
   "cell_type": "code",
   "execution_count": 10,
   "metadata": {},
   "outputs": [
    {
     "name": "stdout",
     "output_type": "stream",
     "text": [
      "0.0037561773775118823\n",
      "0.0024584986660830532\n",
      "0.0010561477158920196\n",
      "0.015664247292643818\n",
      "0.01727717693791797\n",
      "0.006247622236881467\n"
     ]
    }
   ],
   "source": [
    "print(dt.averageGain(m.monk2,m.attributes[0]))\n",
    "print(dt.averageGain(m.monk2,m.attributes[1]))\n",
    "print(dt.averageGain(m.monk2,m.attributes[2]))\n",
    "print(dt.averageGain(m.monk2,m.attributes[3]))\n",
    "print(dt.averageGain(m.monk2,m.attributes[4]))\n",
    "print(dt.averageGain(m.monk2,m.attributes[5]))"
   ]
  },
  {
   "cell_type": "code",
   "execution_count": 11,
   "metadata": {},
   "outputs": [
    {
     "name": "stdout",
     "output_type": "stream",
     "text": [
      "0.007120868396071844\n",
      "0.29373617350838865\n",
      "0.0008311140445336207\n",
      "0.002891817288654397\n",
      "0.25591172461972755\n",
      "0.007077026074097326\n"
     ]
    }
   ],
   "source": [
    "print(dt.averageGain(m.monk3,m.attributes[0]))\n",
    "print(dt.averageGain(m.monk3,m.attributes[1]))\n",
    "print(dt.averageGain(m.monk3,m.attributes[2]))\n",
    "print(dt.averageGain(m.monk3,m.attributes[3]))\n",
    "print(dt.averageGain(m.monk3,m.attributes[4]))\n",
    "print(dt.averageGain(m.monk3,m.attributes[5]))"
   ]
  },
  {
   "cell_type": "code",
   "execution_count": null,
   "metadata": {},
   "outputs": [],
   "source": []
  },
  {
   "cell_type": "markdown",
   "metadata": {},
   "source": [
    "Assignment3"
   ]
  },
  {
   "cell_type": "code",
   "execution_count": 12,
   "metadata": {},
   "outputs": [
    {
     "name": "stdout",
     "output_type": "stream",
     "text": [
      "0.0\n",
      "0.17129629629629628\n"
     ]
    }
   ],
   "source": [
    "t1= dt.buildTree(m.monk1,m.attributes)\n",
    "print(1-dt.check(t1,m.monk1))\n",
    "print(1-dt.check(t1,m.monk1test))"
   ]
  },
  {
   "cell_type": "code",
   "execution_count": 13,
   "metadata": {},
   "outputs": [],
   "source": [
    "import drawtree_qt5 as draw\n",
    "#draw.drawTree(t1)"
   ]
  },
  {
   "cell_type": "code",
   "execution_count": null,
   "metadata": {},
   "outputs": [],
   "source": []
  },
  {
   "cell_type": "code",
   "execution_count": 14,
   "metadata": {},
   "outputs": [
    {
     "name": "stdout",
     "output_type": "stream",
     "text": [
      "0.0\n",
      "0.30787037037037035\n"
     ]
    }
   ],
   "source": [
    "t2= dt.buildTree(m.monk2,m.attributes)\n",
    "print(1-dt.check(t2,m.monk2))\n",
    "print(1-dt.check(t2,m.monk2test))"
   ]
  },
  {
   "cell_type": "code",
   "execution_count": 15,
   "metadata": {},
   "outputs": [
    {
     "name": "stdout",
     "output_type": "stream",
     "text": [
      "0.0\n",
      "0.05555555555555558\n"
     ]
    }
   ],
   "source": [
    "t3= dt.buildTree(m.monk3,m.attributes)\n",
    "print(1-dt.check(t3,m.monk3))\n",
    "print(1-dt.check(t3,m.monk3test))"
   ]
  },
  {
   "cell_type": "code",
   "execution_count": null,
   "metadata": {},
   "outputs": [],
   "source": []
  },
  {
   "cell_type": "markdown",
   "metadata": {},
   "source": [
    "Assignment4"
   ]
  },
  {
   "cell_type": "code",
   "execution_count": 16,
   "metadata": {},
   "outputs": [
    {
     "name": "stderr",
     "output_type": "stream",
     "text": [
      "/Users/yyf/anaconda3/lib/python3.6/site-packages/ipykernel_launcher.py:43: DeprecationWarning: \n",
      ".ix is deprecated. Please use\n",
      ".loc for label based indexing or\n",
      ".iloc for positional indexing\n",
      "\n",
      "See the documentation here:\n",
      "http://pandas.pydata.org/pandas-docs/stable/indexing.html#ix-indexer-is-deprecated\n"
     ]
    },
    {
     "data": {
      "text/html": [
       "<div>\n",
       "<style scoped>\n",
       "    .dataframe tbody tr th:only-of-type {\n",
       "        vertical-align: middle;\n",
       "    }\n",
       "\n",
       "    .dataframe tbody tr th {\n",
       "        vertical-align: top;\n",
       "    }\n",
       "\n",
       "    .dataframe thead th {\n",
       "        text-align: right;\n",
       "    }\n",
       "</style>\n",
       "<table border=\"1\" class=\"dataframe\">\n",
       "  <thead>\n",
       "    <tr style=\"text-align: right;\">\n",
       "      <th></th>\n",
       "      <th>0.3</th>\n",
       "      <th>0.4</th>\n",
       "      <th>0.5</th>\n",
       "      <th>0.6</th>\n",
       "      <th>0.7</th>\n",
       "      <th>0.8</th>\n",
       "    </tr>\n",
       "  </thead>\n",
       "  <tbody>\n",
       "    <tr>\n",
       "      <th>mean</th>\n",
       "      <td>0.227816</td>\n",
       "      <td>0.199867</td>\n",
       "      <td>0.169774</td>\n",
       "      <td>0.150640</td>\n",
       "      <td>0.129842</td>\n",
       "      <td>0.120880</td>\n",
       "    </tr>\n",
       "    <tr>\n",
       "      <th>std</th>\n",
       "      <td>0.049675</td>\n",
       "      <td>0.052664</td>\n",
       "      <td>0.058376</td>\n",
       "      <td>0.061357</td>\n",
       "      <td>0.059847</td>\n",
       "      <td>0.067874</td>\n",
       "    </tr>\n",
       "    <tr>\n",
       "      <th>min</th>\n",
       "      <td>0.080460</td>\n",
       "      <td>0.053333</td>\n",
       "      <td>0.032258</td>\n",
       "      <td>0.000000</td>\n",
       "      <td>0.000000</td>\n",
       "      <td>0.000000</td>\n",
       "    </tr>\n",
       "    <tr>\n",
       "      <th>max</th>\n",
       "      <td>0.379310</td>\n",
       "      <td>0.360000</td>\n",
       "      <td>0.403226</td>\n",
       "      <td>0.360000</td>\n",
       "      <td>0.342105</td>\n",
       "      <td>0.400000</td>\n",
       "    </tr>\n",
       "  </tbody>\n",
       "</table>\n",
       "</div>"
      ],
      "text/plain": [
       "           0.3       0.4       0.5       0.6       0.7       0.8\n",
       "mean  0.227816  0.199867  0.169774  0.150640  0.129842  0.120880\n",
       "std   0.049675  0.052664  0.058376  0.061357  0.059847  0.067874\n",
       "min   0.080460  0.053333  0.032258  0.000000  0.000000  0.000000\n",
       "max   0.379310  0.360000  0.403226  0.360000  0.342105  0.400000"
      ]
     },
     "execution_count": 16,
     "metadata": {},
     "output_type": "execute_result"
    }
   ],
   "source": [
    "import monkdata as m\n",
    "import dtree as dt\n",
    "import drawtree_qt5 as draw\n",
    "import random\n",
    "import pandas as pd\n",
    "import numpy as np\n",
    "def partition(data, fraction):\n",
    "    ldata = list(data)\n",
    "    random.shuffle(ldata)\n",
    "    breakPoint = int(len(ldata) * fraction)\n",
    "    return ldata[:breakPoint], ldata[breakPoint:]\n",
    "\n",
    "besttree={}   ## save best pruned tree for each f\n",
    "none_pruned_tree={}\n",
    "errors={}  ##save errors for each f\n",
    "test_errors={}\n",
    "train_errors={}\n",
    "\n",
    "for f in [0.3, 0.4, 0.5, 0.6, 0.7, 0.8]:  ## fraction\n",
    "    errors[f]=[]    ##contain errors for a certain f over 500 times\n",
    "    test_errors[f]=[]\n",
    "    train_errors[f]=[]\n",
    "    for i in range(500):   ## run 500 times to get statistics \n",
    "        \n",
    "        monk1train, monk1val= partition(m.monk1,f)  # split\n",
    "        tree= dt.buildTree(monk1train,m.attributes)        \n",
    "        bestaccuracy= dt.check(tree,monk1val) ## accuracy on validation without pruned\n",
    "        flag=1   ## to decide whether should we continue to prune\n",
    "        \n",
    "        while(flag==1):\n",
    "            flag=0\n",
    "            pruned_trees=dt.allPruned(tree)\n",
    "            for t1_pruned in pruned_trees:\n",
    "                if dt.check(t1_pruned,monk1val) >= bestaccuracy:\n",
    "                    bestaccuracy=dt.check(t1_pruned,monk1val)\n",
    "                    flag=1\n",
    "                    tree=t1_pruned    \n",
    "        errors[f].append(1-bestaccuracy)\n",
    "        besttree[f]=tree\n",
    "        test_errors[f].append(1-dt.check(tree,m.monk1test))\n",
    "        train_errors[f].append(1-dt.check(tree,monk1train))\n",
    "errors_pd=pd.DataFrame(errors)\n",
    "errors_pd.describe().ix[[1,2,3,7]]"
   ]
  },
  {
   "cell_type": "code",
   "execution_count": 17,
   "metadata": {},
   "outputs": [
    {
     "name": "stderr",
     "output_type": "stream",
     "text": [
      "/Users/yyf/anaconda3/lib/python3.6/site-packages/ipykernel_launcher.py:2: DeprecationWarning: \n",
      ".ix is deprecated. Please use\n",
      ".loc for label based indexing or\n",
      ".iloc for positional indexing\n",
      "\n",
      "See the documentation here:\n",
      "http://pandas.pydata.org/pandas-docs/stable/indexing.html#ix-indexer-is-deprecated\n",
      "  \n"
     ]
    },
    {
     "data": {
      "text/html": [
       "<div>\n",
       "<style scoped>\n",
       "    .dataframe tbody tr th:only-of-type {\n",
       "        vertical-align: middle;\n",
       "    }\n",
       "\n",
       "    .dataframe tbody tr th {\n",
       "        vertical-align: top;\n",
       "    }\n",
       "\n",
       "    .dataframe thead th {\n",
       "        text-align: right;\n",
       "    }\n",
       "</style>\n",
       "<table border=\"1\" class=\"dataframe\">\n",
       "  <thead>\n",
       "    <tr style=\"text-align: right;\">\n",
       "      <th></th>\n",
       "      <th>0.3</th>\n",
       "      <th>0.4</th>\n",
       "      <th>0.5</th>\n",
       "      <th>0.6</th>\n",
       "      <th>0.7</th>\n",
       "      <th>0.8</th>\n",
       "    </tr>\n",
       "  </thead>\n",
       "  <tbody>\n",
       "    <tr>\n",
       "      <th>mean</th>\n",
       "      <td>0.126541</td>\n",
       "      <td>0.126245</td>\n",
       "      <td>0.117742</td>\n",
       "      <td>0.130973</td>\n",
       "      <td>0.150372</td>\n",
       "      <td>0.179293</td>\n",
       "    </tr>\n",
       "    <tr>\n",
       "      <th>std</th>\n",
       "      <td>0.079857</td>\n",
       "      <td>0.076914</td>\n",
       "      <td>0.073736</td>\n",
       "      <td>0.067208</td>\n",
       "      <td>0.062922</td>\n",
       "      <td>0.052558</td>\n",
       "    </tr>\n",
       "    <tr>\n",
       "      <th>min</th>\n",
       "      <td>0.000000</td>\n",
       "      <td>0.000000</td>\n",
       "      <td>0.000000</td>\n",
       "      <td>0.000000</td>\n",
       "      <td>0.000000</td>\n",
       "      <td>0.060606</td>\n",
       "    </tr>\n",
       "    <tr>\n",
       "      <th>max</th>\n",
       "      <td>0.351351</td>\n",
       "      <td>0.326531</td>\n",
       "      <td>0.322581</td>\n",
       "      <td>0.324324</td>\n",
       "      <td>0.325581</td>\n",
       "      <td>0.303030</td>\n",
       "    </tr>\n",
       "  </tbody>\n",
       "</table>\n",
       "</div>"
      ],
      "text/plain": [
       "           0.3       0.4       0.5       0.6       0.7       0.8\n",
       "mean  0.126541  0.126245  0.117742  0.130973  0.150372  0.179293\n",
       "std   0.079857  0.076914  0.073736  0.067208  0.062922  0.052558\n",
       "min   0.000000  0.000000  0.000000  0.000000  0.000000  0.060606\n",
       "max   0.351351  0.326531  0.322581  0.324324  0.325581  0.303030"
      ]
     },
     "execution_count": 17,
     "metadata": {},
     "output_type": "execute_result"
    }
   ],
   "source": [
    "train_errors_pd=pd.DataFrame(train_errors)\n",
    "train_errors_pd.describe().ix[[1,2,3,7]]"
   ]
  },
  {
   "cell_type": "code",
   "execution_count": 18,
   "metadata": {},
   "outputs": [],
   "source": [
    "## we choose f =0.8 as the best f"
   ]
  },
  {
   "cell_type": "code",
   "execution_count": 19,
   "metadata": {},
   "outputs": [
    {
     "name": "stderr",
     "output_type": "stream",
     "text": [
      "/Users/yyf/anaconda3/lib/python3.6/site-packages/ipykernel_launcher.py:2: DeprecationWarning: \n",
      ".ix is deprecated. Please use\n",
      ".loc for label based indexing or\n",
      ".iloc for positional indexing\n",
      "\n",
      "See the documentation here:\n",
      "http://pandas.pydata.org/pandas-docs/stable/indexing.html#ix-indexer-is-deprecated\n",
      "  \n"
     ]
    },
    {
     "data": {
      "text/html": [
       "<div>\n",
       "<style scoped>\n",
       "    .dataframe tbody tr th:only-of-type {\n",
       "        vertical-align: middle;\n",
       "    }\n",
       "\n",
       "    .dataframe tbody tr th {\n",
       "        vertical-align: top;\n",
       "    }\n",
       "\n",
       "    .dataframe thead th {\n",
       "        text-align: right;\n",
       "    }\n",
       "</style>\n",
       "<table border=\"1\" class=\"dataframe\">\n",
       "  <thead>\n",
       "    <tr style=\"text-align: right;\">\n",
       "      <th></th>\n",
       "      <th>0.3</th>\n",
       "      <th>0.4</th>\n",
       "      <th>0.5</th>\n",
       "      <th>0.6</th>\n",
       "      <th>0.7</th>\n",
       "      <th>0.8</th>\n",
       "    </tr>\n",
       "  </thead>\n",
       "  <tbody>\n",
       "    <tr>\n",
       "      <th>mean</th>\n",
       "      <td>0.234176</td>\n",
       "      <td>0.217000</td>\n",
       "      <td>0.199833</td>\n",
       "      <td>0.196296</td>\n",
       "      <td>0.200111</td>\n",
       "      <td>0.221097</td>\n",
       "    </tr>\n",
       "    <tr>\n",
       "      <th>std</th>\n",
       "      <td>0.038375</td>\n",
       "      <td>0.038003</td>\n",
       "      <td>0.041756</td>\n",
       "      <td>0.042170</td>\n",
       "      <td>0.042740</td>\n",
       "      <td>0.036031</td>\n",
       "    </tr>\n",
       "    <tr>\n",
       "      <th>min</th>\n",
       "      <td>0.083333</td>\n",
       "      <td>0.111111</td>\n",
       "      <td>0.083333</td>\n",
       "      <td>0.055556</td>\n",
       "      <td>0.055556</td>\n",
       "      <td>0.111111</td>\n",
       "    </tr>\n",
       "    <tr>\n",
       "      <th>max</th>\n",
       "      <td>0.375000</td>\n",
       "      <td>0.305556</td>\n",
       "      <td>0.326389</td>\n",
       "      <td>0.289352</td>\n",
       "      <td>0.287037</td>\n",
       "      <td>0.305556</td>\n",
       "    </tr>\n",
       "  </tbody>\n",
       "</table>\n",
       "</div>"
      ],
      "text/plain": [
       "           0.3       0.4       0.5       0.6       0.7       0.8\n",
       "mean  0.234176  0.217000  0.199833  0.196296  0.200111  0.221097\n",
       "std   0.038375  0.038003  0.041756  0.042170  0.042740  0.036031\n",
       "min   0.083333  0.111111  0.083333  0.055556  0.055556  0.111111\n",
       "max   0.375000  0.305556  0.326389  0.289352  0.287037  0.305556"
      ]
     },
     "execution_count": 19,
     "metadata": {},
     "output_type": "execute_result"
    }
   ],
   "source": [
    "test_errors_pd=pd.DataFrame(test_errors)\n",
    "test_errors_pd.describe().ix[[1,2,3,7]]"
   ]
  },
  {
   "cell_type": "code",
   "execution_count": 20,
   "metadata": {},
   "outputs": [
    {
     "name": "stderr",
     "output_type": "stream",
     "text": [
      "/Users/yyf/anaconda3/lib/python3.6/site-packages/matplotlib/legend.py:641: UserWarning: Unrecognized location \"error\". Falling back on \"best\"; valid locations are\n",
      "\tbest\n",
      "\tupper right\n",
      "\tupper left\n",
      "\tlower left\n",
      "\tlower right\n",
      "\tright\n",
      "\tcenter left\n",
      "\tcenter right\n",
      "\tlower center\n",
      "\tupper center\n",
      "\tcenter\n",
      "\n",
      "  % (loc, '\\n\\t'.join(self.codes)))\n"
     ]
    },
    {
     "data": {
      "image/png": "[encoded data removed]",
      "text/plain": [
       "<Figure size 432x288 with 1 Axes>"
      ]
     },
     "metadata": {},
     "output_type": "display_data"
    }
   ],
   "source": [
    "\n",
    "\n",
    "\n",
    "\n",
    "\n",
    "import matplotlib.pyplot as plt\n",
    "\n",
    "plt.plot([0.3, 0.4, 0.5, 0.6, 0.7, 0.8], [0.227920,0.197573,0.169613,0.148100,0.130763,0.115680], label='val1')\n",
    "plt.scatter([0.3, 0.4, 0.5, 0.6, 0.7, 0.8], [0.227920,0.197573,0.169613,0.148100,0.130763,0.115680], s=20, c=\"b\", marker='o')\n",
    "\n",
    "plt.plot([0.3, 0.4, 0.5, 0.6, 0.7, 0.8], [0.234736,0.215775,0.199919,0.195394,0.201178,0.220368], label='test1')\n",
    "plt.scatter([0.3, 0.4, 0.5, 0.6, 0.7, 0.8], [0.234736,0.215775,0.199919,0.195394,0.201178,0.220368], s=20, c=\"m\", marker='o')\n",
    "plt.title(\"monk1 error --- f\", fontsize=14)\n",
    "plt.xlabel('fraction')\n",
    "plt.ylabel('error')\n",
    "plt.legend(loc='error')\n",
    "plt.show()"
   ]
  },
  {
   "cell_type": "code",
   "execution_count": null,
   "metadata": {},
   "outputs": [],
   "source": []
  },
  {
   "cell_type": "code",
   "execution_count": null,
   "metadata": {},
   "outputs": [],
   "source": []
  },
  {
   "cell_type": "code",
   "execution_count": 21,
   "metadata": {},
   "outputs": [
    {
     "name": "stderr",
     "output_type": "stream",
     "text": [
      "/Users/yyf/anaconda3/lib/python3.6/site-packages/ipykernel_launcher.py:45: DeprecationWarning: \n",
      ".ix is deprecated. Please use\n",
      ".loc for label based indexing or\n",
      ".iloc for positional indexing\n",
      "\n",
      "See the documentation here:\n",
      "http://pandas.pydata.org/pandas-docs/stable/indexing.html#ix-indexer-is-deprecated\n"
     ]
    },
    {
     "data": {
      "text/html": [
       "<div>\n",
       "<style scoped>\n",
       "    .dataframe tbody tr th:only-of-type {\n",
       "        vertical-align: middle;\n",
       "    }\n",
       "\n",
       "    .dataframe tbody tr th {\n",
       "        vertical-align: top;\n",
       "    }\n",
       "\n",
       "    .dataframe thead th {\n",
       "        text-align: right;\n",
       "    }\n",
       "</style>\n",
       "<table border=\"1\" class=\"dataframe\">\n",
       "  <thead>\n",
       "    <tr style=\"text-align: right;\">\n",
       "      <th></th>\n",
       "      <th>0.3</th>\n",
       "      <th>0.4</th>\n",
       "      <th>0.5</th>\n",
       "      <th>0.6</th>\n",
       "      <th>0.7</th>\n",
       "      <th>0.8</th>\n",
       "    </tr>\n",
       "  </thead>\n",
       "  <tbody>\n",
       "    <tr>\n",
       "      <th>mean</th>\n",
       "      <td>0.123395</td>\n",
       "      <td>0.096270</td>\n",
       "      <td>0.081443</td>\n",
       "      <td>0.073143</td>\n",
       "      <td>0.064649</td>\n",
       "      <td>0.058000</td>\n",
       "    </tr>\n",
       "    <tr>\n",
       "      <th>std</th>\n",
       "      <td>0.053549</td>\n",
       "      <td>0.038944</td>\n",
       "      <td>0.034915</td>\n",
       "      <td>0.035495</td>\n",
       "      <td>0.039672</td>\n",
       "      <td>0.042516</td>\n",
       "    </tr>\n",
       "    <tr>\n",
       "      <th>min</th>\n",
       "      <td>0.034884</td>\n",
       "      <td>0.013514</td>\n",
       "      <td>0.016393</td>\n",
       "      <td>0.000000</td>\n",
       "      <td>0.000000</td>\n",
       "      <td>0.000000</td>\n",
       "    </tr>\n",
       "    <tr>\n",
       "      <th>max</th>\n",
       "      <td>0.302326</td>\n",
       "      <td>0.256757</td>\n",
       "      <td>0.196721</td>\n",
       "      <td>0.204082</td>\n",
       "      <td>0.216216</td>\n",
       "      <td>0.280000</td>\n",
       "    </tr>\n",
       "  </tbody>\n",
       "</table>\n",
       "</div>"
      ],
      "text/plain": [
       "           0.3       0.4       0.5       0.6       0.7       0.8\n",
       "mean  0.123395  0.096270  0.081443  0.073143  0.064649  0.058000\n",
       "std   0.053549  0.038944  0.034915  0.035495  0.039672  0.042516\n",
       "min   0.034884  0.013514  0.016393  0.000000  0.000000  0.000000\n",
       "max   0.302326  0.256757  0.196721  0.204082  0.216216  0.280000"
      ]
     },
     "execution_count": 21,
     "metadata": {},
     "output_type": "execute_result"
    }
   ],
   "source": [
    "import monkdata as m\n",
    "import dtree as dt\n",
    "import monkdata as m\n",
    "import dtree as dt\n",
    "import drawtree_qt5 as draw\n",
    "import random\n",
    "import pandas as pd\n",
    "import numpy as np\n",
    "def partition(data, fraction):\n",
    "    ldata = list(data)\n",
    "    random.shuffle(ldata)\n",
    "    breakPoint = int(len(ldata) * fraction)\n",
    "    return ldata[:breakPoint], ldata[breakPoint:]\n",
    "\n",
    "besttree={}   ## save best pruned tree for each f\n",
    "none_pruned_tree={}\n",
    "errors={}  ##save errors for each f\n",
    "test_errors={}\n",
    "train_errors={}\n",
    "\n",
    "for f in [0.3, 0.4, 0.5, 0.6, 0.7, 0.8]:  ## fraction\n",
    "    errors[f]=[]    ##contain errors for a certain f over 500 times\n",
    "    test_errors[f]=[]\n",
    "    train_errors[f]=[]\n",
    "    for i in range(500):   ## run 500 times to get statistics \n",
    "        \n",
    "        monk3train, monk3val= partition(m.monk3,f)  # split\n",
    "        tree= dt.buildTree(monk3train,m.attributes)        \n",
    "        bestaccuracy= dt.check(tree,monk3val) ## accuracy on validation without pruned\n",
    "        flag=1   ## to decide whether should we continue to prune\n",
    "        \n",
    "        while(flag==1):\n",
    "            flag=0\n",
    "            pruned_trees=dt.allPruned(tree)\n",
    "            for t1_pruned in pruned_trees:\n",
    "                if dt.check(t1_pruned,monk3val) >= bestaccuracy:\n",
    "                    bestaccuracy=dt.check(t1_pruned,monk3val)\n",
    "                    flag=1\n",
    "                    tree=t1_pruned    \n",
    "        errors[f].append(1-bestaccuracy)\n",
    "        besttree[f]=tree\n",
    "        test_errors[f].append(1-dt.check(tree,m.monk3test))\n",
    "        train_errors[f].append(1-dt.check(tree,monk3train))\n",
    "errors_pd=pd.DataFrame(errors)\n",
    "errors_pd.describe().ix[[1,2,3,7]]"
   ]
  },
  {
   "cell_type": "code",
   "execution_count": 22,
   "metadata": {},
   "outputs": [
    {
     "name": "stderr",
     "output_type": "stream",
     "text": [
      "/Users/yyf/anaconda3/lib/python3.6/site-packages/ipykernel_launcher.py:2: DeprecationWarning: \n",
      ".ix is deprecated. Please use\n",
      ".loc for label based indexing or\n",
      ".iloc for positional indexing\n",
      "\n",
      "See the documentation here:\n",
      "http://pandas.pydata.org/pandas-docs/stable/indexing.html#ix-indexer-is-deprecated\n",
      "  \n"
     ]
    },
    {
     "data": {
      "text/html": [
       "<div>\n",
       "<style scoped>\n",
       "    .dataframe tbody tr th:only-of-type {\n",
       "        vertical-align: middle;\n",
       "    }\n",
       "\n",
       "    .dataframe tbody tr th {\n",
       "        vertical-align: top;\n",
       "    }\n",
       "\n",
       "    .dataframe thead th {\n",
       "        text-align: right;\n",
       "    }\n",
       "</style>\n",
       "<table border=\"1\" class=\"dataframe\">\n",
       "  <thead>\n",
       "    <tr style=\"text-align: right;\">\n",
       "      <th></th>\n",
       "      <th>0.3</th>\n",
       "      <th>0.4</th>\n",
       "      <th>0.5</th>\n",
       "      <th>0.6</th>\n",
       "      <th>0.7</th>\n",
       "      <th>0.8</th>\n",
       "    </tr>\n",
       "  </thead>\n",
       "  <tbody>\n",
       "    <tr>\n",
       "      <th>mean</th>\n",
       "      <td>0.086157</td>\n",
       "      <td>0.056773</td>\n",
       "      <td>0.042227</td>\n",
       "      <td>0.034176</td>\n",
       "      <td>0.032204</td>\n",
       "      <td>0.037935</td>\n",
       "    </tr>\n",
       "    <tr>\n",
       "      <th>std</th>\n",
       "      <td>0.054435</td>\n",
       "      <td>0.042814</td>\n",
       "      <td>0.033428</td>\n",
       "      <td>0.029279</td>\n",
       "      <td>0.027871</td>\n",
       "      <td>0.032020</td>\n",
       "    </tr>\n",
       "    <tr>\n",
       "      <th>min</th>\n",
       "      <td>0.000000</td>\n",
       "      <td>0.000000</td>\n",
       "      <td>0.000000</td>\n",
       "      <td>0.000000</td>\n",
       "      <td>0.000000</td>\n",
       "      <td>0.000000</td>\n",
       "    </tr>\n",
       "    <tr>\n",
       "      <th>max</th>\n",
       "      <td>0.277778</td>\n",
       "      <td>0.222222</td>\n",
       "      <td>0.194444</td>\n",
       "      <td>0.138889</td>\n",
       "      <td>0.175926</td>\n",
       "      <td>0.212963</td>\n",
       "    </tr>\n",
       "  </tbody>\n",
       "</table>\n",
       "</div>"
      ],
      "text/plain": [
       "           0.3       0.4       0.5       0.6       0.7       0.8\n",
       "mean  0.086157  0.056773  0.042227  0.034176  0.032204  0.037935\n",
       "std   0.054435  0.042814  0.033428  0.029279  0.027871  0.032020\n",
       "min   0.000000  0.000000  0.000000  0.000000  0.000000  0.000000\n",
       "max   0.277778  0.222222  0.194444  0.138889  0.175926  0.212963"
      ]
     },
     "execution_count": 22,
     "metadata": {},
     "output_type": "execute_result"
    }
   ],
   "source": [
    "test_errors_pd=pd.DataFrame(test_errors)\n",
    "test_errors_pd.describe().ix[[1,2,3,7]]"
   ]
  },
  {
   "cell_type": "code",
   "execution_count": 23,
   "metadata": {},
   "outputs": [
    {
     "name": "stderr",
     "output_type": "stream",
     "text": [
      "/Users/yyf/anaconda3/lib/python3.6/site-packages/matplotlib/legend.py:641: UserWarning: Unrecognized location \"error\". Falling back on \"best\"; valid locations are\n",
      "\tbest\n",
      "\tupper right\n",
      "\tupper left\n",
      "\tlower left\n",
      "\tlower right\n",
      "\tright\n",
      "\tcenter left\n",
      "\tcenter right\n",
      "\tlower center\n",
      "\tupper center\n",
      "\tcenter\n",
      "\n",
      "  % (loc, '\\n\\t'.join(self.codes)))\n"
     ]
    },
    {
     "data": {
      "image/png": "[encoded data removed]",
      "text/plain": [
       "<Figure size 432x288 with 1 Axes>"
      ]
     },
     "metadata": {},
     "output_type": "display_data"
    }
   ],
   "source": [
    "import matplotlib.pyplot as plt\n",
    "\n",
    "plt.plot([0.3, 0.4, 0.5, 0.6, 0.7, 0.8], [0.124279,0.093676,0.083639,0.073388,0.061676,0.053680], label='val3')\n",
    "plt.scatter([0.3, 0.4, 0.5, 0.6, 0.7, 0.8], [0.124279,0.093676,0.083639,0.073388,0.061676,0.053680], s=20, c=\"b\", marker='o')\n",
    "\n",
    "plt.plot([0.3, 0.4, 0.5, 0.6, 0.7, 0.8], [0.087093,0.052250,0.042458,0.036565,0.033167,0.040250], label='test3')\n",
    "plt.scatter([0.3, 0.4, 0.5, 0.6, 0.7, 0.8], [0.087093,0.052250,0.042458,0.036565,0.033167,0.040250], s=20, c=\"m\", marker='o')\n",
    "plt.title(\"monk3 error --- f\", fontsize=14)\n",
    "plt.xlabel('fraction')\n",
    "plt.ylabel('error')\n",
    "plt.legend(loc='error')\n",
    "plt.show()"
   ]
  },
  {
   "cell_type": "code",
   "execution_count": null,
   "metadata": {},
   "outputs": [],
   "source": []
  },
  {
   "cell_type": "code",
   "execution_count": null,
   "metadata": {},
   "outputs": [],
   "source": []
  },
  {
   "cell_type": "code",
   "execution_count": null,
   "metadata": {},
   "outputs": [],
   "source": []
  },
  {
   "cell_type": "code",
   "execution_count": null,
   "metadata": {},
   "outputs": [],
   "source": []
  }
 ],
 "metadata": {
  "kernelspec": {
   "display_name": "Python 3",
   "language": "python",
   "name": "python3"
  },
  "language_info": {
   "codemirror_mode": {
    "name": "ipython",
    "version": 3
   },
   "file_extension": ".py",
   "mimetype": "text/x-python",
   "name": "python",
   "nbconvert_exporter": "python",
   "pygments_lexer": "ipython3",
   "version": "3.6.5"
  }
 },
 "nbformat": 4,
 "nbformat_minor": 2
}
